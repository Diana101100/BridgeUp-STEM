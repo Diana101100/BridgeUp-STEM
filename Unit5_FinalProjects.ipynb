{
 "cells": [
  {
   "cell_type": "markdown",
   "metadata": {},
   "source": [
    "# Final Projects: Calculating evolutionary distance\n",
    "\n",
    "In this notebook you will compare the amino acid sequence of hemoglobin alpha from 3 different species to find out which two are most closely related."
   ]
  },
  {
   "cell_type": "markdown",
   "metadata": {},
   "source": [
    "You'll need to copy and paste the function from last class that finds the number of differences in two sequences:"
   ]
  },
  {
   "cell_type": "code",
   "execution_count": 119,
   "metadata": {},
   "outputs": [],
   "source": [
    "#The function we used to find the number of differences between  arguments that are in strings. \n",
    "def num_of_differences(Aminoseq1, Aminoseq2):\n",
    "    differences = 0\n",
    "    for letter in range(len(Aminoseq1)):\n",
    "        if Aminoseq2[letter] != letter:\n",
    "                differences += 1\n",
    "    print(\"there are\", differences,\"differences in these sequences\")"
   ]
  },
  {
   "cell_type": "markdown",
   "metadata": {},
   "source": [
    "In order to compare the different amino acid sequences, we need to open the files and read the sequences into new variables:"
   ]
  },
  {
   "cell_type": "code",
   "execution_count": 120,
   "metadata": {},
   "outputs": [],
   "source": [
    "\n",
    "Mouse = open(\"5_mouse_CYTB_DNA.txt\").read()\n",
    "Hedgehog = open(\"5_hedgehog_CYTB_DNA.txt\").read()\n",
    "Rabbit = open(\"5_rabbit_CYTB_DNA.txt\").read()"
   ]
  },
  {
   "cell_type": "markdown",
   "metadata": {},
   "source": [
    "Decide as a group whether you want to compare DNA or protein sequences for your species. What are the pros and cons of each?"
   ]
  },
  {
   "cell_type": "code",
   "execution_count": 121,
   "metadata": {},
   "outputs": [],
   "source": [
    "#These are our transcribe and translate functions.\n",
    "def RNAfunc(DNAtype):\n",
    "    myDict = {\"A\":\"U\", \"T\": \"A\", \"G\":\"C\", \"C\":\"G\"}\n",
    "    RNAseq = \"\"\n",
    "    for letter in DNAtype:\n",
    "        RNAseq += myDict[letter] \n",
    "    return RNAseq\n",
    "\n",
    "def aminotrans(rnaseq):\n",
    "    ProteinDict = {\"UUU\":\"F\", \"UUC\":\"F\", \"UUA\":\"L\", \"UUG\":\"L\", \"CUU\":\"L\", \"CUC\":\"L\", \"CUA\":\"L\", \"CUG\":\"L\", \"AUU\":\"I\", \"AUC\":\"I\", \"AUA\":\"I\", \"AUG\":\"M\", \"GUU\":\"V\", \"GUC\":\"V\", \"GUA\":\"V\", \"GUG\":\"V\", \"UCU\":\"S\", \"UCC\":\"S\", \"UCA\":\"S\", \"UCG\":\"S\", \"CCU\":\"P\", \"CCC\":\"P\", \"CCA\":\"P\", \"CCG\":\"P\", \"ACU\":\"T\", \"ACC\":\"T\", \"ACA\":\"T\", \"ACG\":\"T\", \"GCU\":\"A\", \"GCC\":\"A\", \"GCA\":\"A\", \"GCG\":\"A\", \"UAU\":\"Y\", \"UAC\":\"Y\", \"UAA\":\"X\", \"UAG\":\"X\", \"CAU\":\"H\", \"CAC\":\"H\", \"CAA\":\"Q\", \"CAG\":\"Q\", \"AAU\": \"N\", \"AAC\":\"N\", \"AAA\":\"K\", \"AAG\":\"K\", \"GAU\":\"D\", \"GAC\":\"D\", \"GAA\":\"E\", \"GAG\":\"E\", \"UGU\":\"C\", \"UGC\":\"C\", \"UGA\":\"X\", \"UGG\":\"W\", \"CGU\":\"R\", \"CGC\":\"R\", \"CGA\":\"R\", \"CGG\":\"R\", \"AGU\":\"S\", \"AGC\":\"S\", \"AGA\":\"R\", \"AGG\":\"R\", \"GGU\":\"G\", \"GGC\":\"G\", \"GGA\":\"G\", \"GGG\":\"G\"} \n",
    "    codon = \"\"\n",
    "    protein = \"\"\n",
    "    for base in rnaseq:\n",
    "        codon += base\n",
    "        if len(codon) == 3:\n",
    "            protein += ProteinDict[codon]\n",
    "            codon = \"\"\n",
    "    return protein"
   ]
  },
  {
   "cell_type": "code",
   "execution_count": 122,
   "metadata": {},
   "outputs": [],
   "source": [
    "M1 = (aminotrans(RNAfunc(Mouse)))\n",
    "H1 = (aminotrans(RNAfunc(Hedgehog)))\n",
    "R1 = (aminotrans(RNAfunc(Rabbit)))"
   ]
  },
  {
   "cell_type": "markdown",
   "metadata": {},
   "source": [
    "Now call the number of differences function 3 times to compare all three of your species' sequences."
   ]
  },
  {
   "cell_type": "code",
   "execution_count": 123,
   "metadata": {},
   "outputs": [
    {
     "name": "stdout",
     "output_type": "stream",
     "text": [
      "there are 380 differences in these sequences\n",
      "there are 380 differences in these sequences\n",
      "there are 380 differences in these sequences\n"
     ]
    }
   ],
   "source": [
    "#Here we're looking for the number of differences of each protein sequences\n",
    "num_of_differences(R1, M1)\n",
    "num_of_differences(H1, M1)\n",
    "num_of_differences(H1, R1)\n"
   ]
  },
  {
   "cell_type": "code",
   "execution_count": 125,
   "metadata": {},
   "outputs": [
    {
     "name": "stdout",
     "output_type": "stream",
     "text": [
      "there are 1140 differences in these sequences\n",
      "there are 1140 differences in these sequences\n",
      "there are 1140 differences in these sequences\n"
     ]
    }
   ],
   "source": [
    "#Here we're looking for the number of differences of each DNA sequences\n",
    "num_of_differences(Rabbit, Mouse)\n",
    "num_of_differences(Hedgehog, Mouse)\n",
    "num_of_differences(Hedgehog, Rabbit)"
   ]
  },
  {
   "cell_type": "markdown",
   "metadata": {},
   "source": [
    "What can you conclude based on the number of differences between each pair of species?\n",
    "\n",
    "Next, create a function that returns the percent difference between sequences and call it for your three comparisons:"
   ]
  },
  {
   "cell_type": "code",
   "execution_count": 115,
   "metadata": {},
   "outputs": [],
   "source": [
    "def percent_diff(seq1, seq2):\n",
    "    difference = 0\n",
    "   \n",
    "    for i, aa in enumerate(seq1):\n",
    "        if seq2[i] != aa:\n",
    "               difference += 1\n",
    "   \n",
    "    percent = difference / len(seq1) * 100\n",
    "   \n",
    "    return percent"
   ]
  },
  {
   "cell_type": "code",
   "execution_count": 130,
   "metadata": {},
   "outputs": [
    {
     "name": "stdout",
     "output_type": "stream",
     "text": [
      "16.842105263157894\n",
      "17.894736842105264\n",
      "21.842105263157897\n"
     ]
    }
   ],
   "source": [
    "print(percent_diff(R1, M1))\n",
    "print(percent_diff(H1, R1))\n",
    "print(percent_diff(H1, M1))"
   ]
  },
  {
   "cell_type": "code",
   "execution_count": 131,
   "metadata": {},
   "outputs": [],
   "source": [
    "mrp = (percent_diff(R1, M1))\n",
    "hrp = (percent_diff(H1, R1))\n",
    "hmp = (percent_diff(H1, M1))"
   ]
  },
  {
   "cell_type": "code",
   "execution_count": 144,
   "metadata": {},
   "outputs": [
    {
     "name": "stdout",
     "output_type": "stream",
     "text": [
      "23.24561403508772\n",
      "25.438596491228072\n",
      "26.49122807017544\n"
     ]
    }
   ],
   "source": [
    "print(percent_diff(Rabbit, Mouse))\n",
    "print(percent_diff(Hedgehog, Rabbit))\n",
    "print(percent_diff(Hedgehog, Mouse))"
   ]
  },
  {
   "cell_type": "code",
   "execution_count": 145,
   "metadata": {},
   "outputs": [],
   "source": [
    "dmrp = (percent_diff(Rabbit, Mouse))\n",
    "dhrp = (percent_diff(Hedgehog, Rabbit))\n",
    "dhmp = (percent_diff(Hedgehog, Mouse))"
   ]
  },
  {
   "cell_type": "markdown",
   "metadata": {},
   "source": [
    "Let's visualize these results! Choose a graph type that you think will communicate your conclusions effectively and create it using matplotlib:"
   ]
  },
  {
   "cell_type": "code",
   "execution_count": 146,
   "metadata": {},
   "outputs": [
    {
     "data": {
      "image/png": "[encoded data removed]",
      "text/plain": [
       "<matplotlib.figure.Figure at 0x11d54ee10>"
      ]
     },
     "metadata": {},
     "output_type": "display_data"
    }
   ],
   "source": [
    "#Protein Visualization\n",
    "import matplotlib.pyplot as plt\n",
    "\n",
    "plt.clf()\n",
    "plt.bar(1, hrp, color = \"gold\")\n",
    "plt.bar(2, mrp, color = \"turquoise\")\n",
    "plt.bar(3, hmp, color = \"hotpink\")\n",
    "\n",
    "plt.title(\"Precent difference in Protein\")\n",
    "plt.ylabel(\"Difference from the mean\")\n",
    "plt.xticks([1,2,3],('Hedgehog and Rabbit',' Mouse and Rabbit',' Hedgehog and Mouse'))\n",
    "plt.savefig(\"my_bar.png\")\n",
    "plt.show()"
   ]
  },
  {
   "cell_type": "code",
   "execution_count": 147,
   "metadata": {},
   "outputs": [
    {
     "data": {
      "image/png": "[encoded data removed]",
      "text/plain": [
       "<matplotlib.figure.Figure at 0x11d53a908>"
      ]
     },
     "metadata": {},
     "output_type": "display_data"
    }
   ],
   "source": [
    "#DNA Visulization\n",
    "\n",
    "plt.clf()\n",
    "plt.bar(1, dhrp, color = \"gold\")\n",
    "plt.bar(2, dmrp, color = \"turquoise\")\n",
    "plt.bar(3, dhmp, color = \"hotpink\")\n",
    "\n",
    "plt.title(\"Precentage difference in DNA\")\n",
    "plt.ylabel(\"Difference from the mean\")\n",
    "plt.xticks([1,2,3],('Hedgehog and Rabbit',' Mouse and Rabbit',' Hedgehog and Mouse'))\n",
    "plt.savefig(\"my_bar.png\")\n",
    "plt.show()"
   ]
  },
  {
   "cell_type": "markdown",
   "metadata": {},
   "source": [
    "## Coding Challenge\n",
    "If you finish your project and want to try a challenge, come up with a hypothesis about which of the following species are most closely related to humans (carp, chicken, chimp, dog, eel, elephant, frog, gorilla, macaque monkey, mouse, orangutan, pig). Write out a ranked list with the species you think is most related to humans at the top.\n",
    "\n",
    "Then calculate the percent difference between the hemoglobin amino acid sequences of humans and each species to find out how close you came to the right ranking!"
   ]
  },
  {
   "cell_type": "code",
   "execution_count": null,
   "metadata": {
    "collapsed": true
   },
   "outputs": [],
   "source": []
  }
 ],
 "metadata": {
  "kernelspec": {
   "display_name": "Python 3",
   "language": "python",
   "name": "python3"
  },
  "language_info": {
   "codemirror_mode": {
    "name": "ipython",
    "version": 3
   },
   "file_extension": ".py",
   "mimetype": "text/x-python",
   "name": "python",
   "nbconvert_exporter": "python",
   "pygments_lexer": "ipython3",
   "version": "3.6.4"
  }
 },
 "nbformat": 4,
 "nbformat_minor": 2
}
